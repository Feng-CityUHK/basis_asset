{
 "cells": [
  {
   "cell_type": "code",
   "execution_count": 3,
   "metadata": {},
   "outputs": [],
   "source": [
    "import numpy as np\n",
    "import pandas as pd\n",
    "import os\n",
    "import matplotlib.pyplot as plt\n",
    "import pickle\n",
    "\n",
    "# from src.sharpe_simulation import *"
   ]
  },
  {
   "cell_type": "code",
   "execution_count": 4,
   "metadata": {},
   "outputs": [],
   "source": [
    "[P,F] = pickle.load( open(\"./data/save.p\", \"rb\") )"
   ]
  },
  {
   "cell_type": "code",
   "execution_count": 5,
   "metadata": {},
   "outputs": [
    {
     "data": {
      "text/plain": "dict_keys(['ME10', 'FF25', 'IND10', 'IND30', 'IND49', 'PT23', 'MAPT18'])"
     },
     "execution_count": 5,
     "metadata": {},
     "output_type": "execute_result"
    }
   ],
   "source": [
    "P.keys()"
   ]
  },
  {
   "cell_type": "code",
   "execution_count": 6,
   "metadata": {},
   "outputs": [
    {
     "data": {
      "text/plain": "478.2466497557425"
     },
     "execution_count": 6,
     "metadata": {},
     "output_type": "execute_result"
    }
   ],
   "source": [
    "me10 = P['ME10']\n",
    "sigma = me10.cov()\n",
    "eigV = np.linalg.eig(sigma)[0]\n",
    "eigV[0] / eigV[-1]"
   ]
  },
  {
   "cell_type": "code",
   "execution_count": 7,
   "metadata": {},
   "outputs": [
    {
     "data": {
      "text/plain": "732.5074964295876"
     },
     "execution_count": 7,
     "metadata": {},
     "output_type": "execute_result"
    }
   ],
   "source": [
    "ff25 = P['FF25']\n",
    "sigma = ff25.cov()\n",
    "eigV = np.linalg.eig(sigma)[0]\n",
    "eigV[0] / eigV[-1]"
   ]
  },
  {
   "cell_type": "code",
   "execution_count": 8,
   "metadata": {},
   "outputs": [
    {
     "data": {
      "text/plain": "25.647838639893568"
     },
     "execution_count": 8,
     "metadata": {},
     "output_type": "execute_result"
    }
   ],
   "source": [
    "ind10 = P['IND10']\n",
    "sigma = ind10.cov()\n",
    "eigV = np.linalg.eig(sigma)[0]\n",
    "eigV[0] / eigV[-1]"
   ]
  },
  {
   "cell_type": "code",
   "execution_count": 9,
   "metadata": {},
   "outputs": [
    {
     "data": {
      "text/plain": "144.41292735348642"
     },
     "execution_count": 9,
     "metadata": {},
     "output_type": "execute_result"
    }
   ],
   "source": [
    "ind30 = P['IND30']\n",
    "sigma = ind30.cov()\n",
    "eigV = np.linalg.eig(sigma)[0]\n",
    "eigV[0] / eigV[-1]"
   ]
  },
  {
   "cell_type": "code",
   "execution_count": 10,
   "metadata": {},
   "outputs": [
    {
     "data": {
      "text/plain": "232.0374211225932"
     },
     "execution_count": 10,
     "metadata": {},
     "output_type": "execute_result"
    }
   ],
   "source": [
    "ind49 = P['IND49']\n",
    "sigma = ind49.cov()\n",
    "eigV = np.linalg.eig(sigma)[0]\n",
    "eigV[0] / eigV[-1]"
   ]
  },
  {
   "cell_type": "code",
   "execution_count": 11,
   "metadata": {},
   "outputs": [
    {
     "data": {
      "text/plain": "110.83425938189343"
     },
     "execution_count": 11,
     "metadata": {},
     "output_type": "execute_result"
    }
   ],
   "source": [
    "pt23 = P['PT23']\n",
    "sigma = pt23.cov()\n",
    "eigV = np.linalg.eig(sigma)[0]\n",
    "eigV[0] / eigV[-1]"
   ]
  },
  {
   "cell_type": "code",
   "execution_count": 12,
   "metadata": {},
   "outputs": [
    {
     "data": {
      "text/plain": "88.96751977240827"
     },
     "execution_count": 12,
     "metadata": {},
     "output_type": "execute_result"
    }
   ],
   "source": [
    "mapt18 = P['MAPT18']\n",
    "sigma = mapt18.cov()\n",
    "eigV = np.linalg.eig(sigma)[0]\n",
    "eigV[0] / eigV[-1]"
   ]
  },
  {
   "cell_type": "code",
   "execution_count": 13,
   "metadata": {},
   "outputs": [],
   "source": [
    "# test"
   ]
  },
  {
   "cell_type": "code",
   "execution_count": null,
   "metadata": {},
   "outputs": [],
   "source": [
    "# test 2"
   ]
  }
 ],
 "metadata": {
  "interpreter": {
   "hash": "9387e9e37a0af8fff0fcbade4737076ebc87d0c8fec44545ee3d2fd05cdc73df"
  },
  "kernelspec": {
   "display_name": "Python 3.8.5 64-bit ('cvxpy': conda)",
   "name": "python385jvsc74a57bd0970838b5de48db32d28dc5683736c074ed63d08f161f11bf4818e0c5d3e711bd"
  },
  "language_info": {
   "codemirror_mode": {
    "name": "ipython",
    "version": 3
   },
   "file_extension": ".py",
   "mimetype": "text/x-python",
   "name": "python",
   "nbconvert_exporter": "python",
   "pygments_lexer": "ipython3",
   "version": "3.8.5"
  },
  "orig_nbformat": 4
 },
 "nbformat": 4,
 "nbformat_minor": 2
}
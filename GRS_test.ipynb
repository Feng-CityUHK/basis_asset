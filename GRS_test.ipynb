{
 "cells": [
  {
   "cell_type": "code",
   "execution_count": 1,
   "id": "f79daf20",
   "metadata": {},
   "outputs": [],
   "source": [
    "import numpy as np\n",
    "import pandas as pd\n",
    "import os\n",
    "import matplotlib.pyplot as plt\n",
    "import pickle\n",
    "import scipy\n",
    "from sklearn.linear_model import LinearRegression\n",
    "\n",
    "# from src.sharpe_simulation import * "
   ]
  },
  {
   "cell_type": "code",
   "execution_count": 2,
   "id": "04458148",
   "metadata": {},
   "outputs": [],
   "source": [
    "[P,F] = pickle.load( open(\"./data/save.p\", \"rb\") )"
   ]
  },
  {
   "cell_type": "code",
   "execution_count": 3,
   "id": "0a31e28a",
   "metadata": {},
   "outputs": [
    {
     "data": {
      "text/plain": [
       "dict_keys(['ME10', 'FF25', 'IND10', 'IND30', 'IND49'])"
      ]
     },
     "execution_count": 3,
     "metadata": {},
     "output_type": "execute_result"
    }
   ],
   "source": [
    "P.keys()"
   ]
  },
  {
   "cell_type": "code",
   "execution_count": 4,
   "id": "f0f1e466",
   "metadata": {},
   "outputs": [
    {
     "data": {
      "text/plain": [
       "dict_keys(['CAPM', 'FF3'])"
      ]
     },
     "execution_count": 4,
     "metadata": {},
     "output_type": "execute_result"
    }
   ],
   "source": [
    "F.keys()"
   ]
  },
  {
   "cell_type": "code",
   "execution_count": 5,
   "id": "36f59f71",
   "metadata": {},
   "outputs": [
    {
     "data": {
      "text/html": [
       "<div>\n",
       "<style scoped>\n",
       "    .dataframe tbody tr th:only-of-type {\n",
       "        vertical-align: middle;\n",
       "    }\n",
       "\n",
       "    .dataframe tbody tr th {\n",
       "        vertical-align: top;\n",
       "    }\n",
       "\n",
       "    .dataframe thead th {\n",
       "        text-align: right;\n",
       "    }\n",
       "</style>\n",
       "<table border=\"1\" class=\"dataframe\">\n",
       "  <thead>\n",
       "    <tr style=\"text-align: right;\">\n",
       "      <th></th>\n",
       "      <th>Lo 10</th>\n",
       "      <th>Dec-02</th>\n",
       "      <th>Dec-03</th>\n",
       "      <th>Dec-04</th>\n",
       "      <th>Dec-05</th>\n",
       "      <th>Dec-06</th>\n",
       "      <th>Dec-07</th>\n",
       "      <th>Dec-08</th>\n",
       "      <th>Dec-09</th>\n",
       "      <th>Hi 10</th>\n",
       "    </tr>\n",
       "  </thead>\n",
       "  <tbody>\n",
       "    <tr>\n",
       "      <th>1959-07-31</th>\n",
       "      <td>0.0363</td>\n",
       "      <td>0.0179</td>\n",
       "      <td>0.0302</td>\n",
       "      <td>0.0332</td>\n",
       "      <td>0.0201</td>\n",
       "      <td>0.0383</td>\n",
       "      <td>0.0239</td>\n",
       "      <td>0.0214</td>\n",
       "      <td>0.0328</td>\n",
       "      <td>0.0333</td>\n",
       "    </tr>\n",
       "    <tr>\n",
       "      <th>1959-08-31</th>\n",
       "      <td>-0.0183</td>\n",
       "      <td>-0.0015</td>\n",
       "      <td>-0.0169</td>\n",
       "      <td>-0.0217</td>\n",
       "      <td>-0.0218</td>\n",
       "      <td>-0.0037</td>\n",
       "      <td>-0.0185</td>\n",
       "      <td>-0.0217</td>\n",
       "      <td>-0.0213</td>\n",
       "      <td>-0.0112</td>\n",
       "    </tr>\n",
       "    <tr>\n",
       "      <th>1959-09-30</th>\n",
       "      <td>-0.0404</td>\n",
       "      <td>-0.0512</td>\n",
       "      <td>-0.0456</td>\n",
       "      <td>-0.0445</td>\n",
       "      <td>-0.0505</td>\n",
       "      <td>-0.0437</td>\n",
       "      <td>-0.0557</td>\n",
       "      <td>-0.0492</td>\n",
       "      <td>-0.0539</td>\n",
       "      <td>-0.0464</td>\n",
       "    </tr>\n",
       "    <tr>\n",
       "      <th>1959-10-31</th>\n",
       "      <td>-0.0040</td>\n",
       "      <td>0.0229</td>\n",
       "      <td>0.0145</td>\n",
       "      <td>0.0261</td>\n",
       "      <td>0.0216</td>\n",
       "      <td>0.0261</td>\n",
       "      <td>0.0109</td>\n",
       "      <td>0.0391</td>\n",
       "      <td>0.0225</td>\n",
       "      <td>0.0066</td>\n",
       "    </tr>\n",
       "    <tr>\n",
       "      <th>1959-11-30</th>\n",
       "      <td>0.0000</td>\n",
       "      <td>0.0040</td>\n",
       "      <td>0.0059</td>\n",
       "      <td>0.0285</td>\n",
       "      <td>0.0139</td>\n",
       "      <td>0.0055</td>\n",
       "      <td>0.0181</td>\n",
       "      <td>0.0269</td>\n",
       "      <td>0.0104</td>\n",
       "      <td>0.0161</td>\n",
       "    </tr>\n",
       "    <tr>\n",
       "      <th>...</th>\n",
       "      <td>...</td>\n",
       "      <td>...</td>\n",
       "      <td>...</td>\n",
       "      <td>...</td>\n",
       "      <td>...</td>\n",
       "      <td>...</td>\n",
       "      <td>...</td>\n",
       "      <td>...</td>\n",
       "      <td>...</td>\n",
       "      <td>...</td>\n",
       "    </tr>\n",
       "    <tr>\n",
       "      <th>2003-08-31</th>\n",
       "      <td>0.0512</td>\n",
       "      <td>0.0486</td>\n",
       "      <td>0.0480</td>\n",
       "      <td>0.0463</td>\n",
       "      <td>0.0559</td>\n",
       "      <td>0.0507</td>\n",
       "      <td>0.0515</td>\n",
       "      <td>0.0473</td>\n",
       "      <td>0.0375</td>\n",
       "      <td>0.0122</td>\n",
       "    </tr>\n",
       "    <tr>\n",
       "      <th>2003-09-30</th>\n",
       "      <td>0.0442</td>\n",
       "      <td>0.0004</td>\n",
       "      <td>-0.0242</td>\n",
       "      <td>-0.0282</td>\n",
       "      <td>-0.0264</td>\n",
       "      <td>-0.0151</td>\n",
       "      <td>-0.0144</td>\n",
       "      <td>-0.0180</td>\n",
       "      <td>-0.0177</td>\n",
       "      <td>-0.0106</td>\n",
       "    </tr>\n",
       "    <tr>\n",
       "      <th>2003-10-31</th>\n",
       "      <td>0.0939</td>\n",
       "      <td>0.0892</td>\n",
       "      <td>0.0893</td>\n",
       "      <td>0.0861</td>\n",
       "      <td>0.0836</td>\n",
       "      <td>0.0838</td>\n",
       "      <td>0.0757</td>\n",
       "      <td>0.0848</td>\n",
       "      <td>0.0674</td>\n",
       "      <td>0.0506</td>\n",
       "    </tr>\n",
       "    <tr>\n",
       "      <th>2003-11-30</th>\n",
       "      <td>0.0486</td>\n",
       "      <td>0.0397</td>\n",
       "      <td>0.0340</td>\n",
       "      <td>0.0330</td>\n",
       "      <td>0.0304</td>\n",
       "      <td>0.0389</td>\n",
       "      <td>0.0315</td>\n",
       "      <td>0.0244</td>\n",
       "      <td>0.0209</td>\n",
       "      <td>0.0059</td>\n",
       "    </tr>\n",
       "    <tr>\n",
       "      <th>2003-12-31</th>\n",
       "      <td>0.0267</td>\n",
       "      <td>0.0228</td>\n",
       "      <td>0.0218</td>\n",
       "      <td>0.0213</td>\n",
       "      <td>0.0167</td>\n",
       "      <td>0.0314</td>\n",
       "      <td>0.0174</td>\n",
       "      <td>0.0300</td>\n",
       "      <td>0.0330</td>\n",
       "      <td>0.0528</td>\n",
       "    </tr>\n",
       "  </tbody>\n",
       "</table>\n",
       "<p>534 rows × 10 columns</p>\n",
       "</div>"
      ],
      "text/plain": [
       "             Lo 10  Dec-02  Dec-03  Dec-04  Dec-05  Dec-06  Dec-07  Dec-08  \\\n",
       "1959-07-31  0.0363  0.0179  0.0302  0.0332  0.0201  0.0383  0.0239  0.0214   \n",
       "1959-08-31 -0.0183 -0.0015 -0.0169 -0.0217 -0.0218 -0.0037 -0.0185 -0.0217   \n",
       "1959-09-30 -0.0404 -0.0512 -0.0456 -0.0445 -0.0505 -0.0437 -0.0557 -0.0492   \n",
       "1959-10-31 -0.0040  0.0229  0.0145  0.0261  0.0216  0.0261  0.0109  0.0391   \n",
       "1959-11-30  0.0000  0.0040  0.0059  0.0285  0.0139  0.0055  0.0181  0.0269   \n",
       "...            ...     ...     ...     ...     ...     ...     ...     ...   \n",
       "2003-08-31  0.0512  0.0486  0.0480  0.0463  0.0559  0.0507  0.0515  0.0473   \n",
       "2003-09-30  0.0442  0.0004 -0.0242 -0.0282 -0.0264 -0.0151 -0.0144 -0.0180   \n",
       "2003-10-31  0.0939  0.0892  0.0893  0.0861  0.0836  0.0838  0.0757  0.0848   \n",
       "2003-11-30  0.0486  0.0397  0.0340  0.0330  0.0304  0.0389  0.0315  0.0244   \n",
       "2003-12-31  0.0267  0.0228  0.0218  0.0213  0.0167  0.0314  0.0174  0.0300   \n",
       "\n",
       "            Dec-09   Hi 10  \n",
       "1959-07-31  0.0328  0.0333  \n",
       "1959-08-31 -0.0213 -0.0112  \n",
       "1959-09-30 -0.0539 -0.0464  \n",
       "1959-10-31  0.0225  0.0066  \n",
       "1959-11-30  0.0104  0.0161  \n",
       "...            ...     ...  \n",
       "2003-08-31  0.0375  0.0122  \n",
       "2003-09-30 -0.0177 -0.0106  \n",
       "2003-10-31  0.0674  0.0506  \n",
       "2003-11-30  0.0209  0.0059  \n",
       "2003-12-31  0.0330  0.0528  \n",
       "\n",
       "[534 rows x 10 columns]"
      ]
     },
     "execution_count": 5,
     "metadata": {},
     "output_type": "execute_result"
    }
   ],
   "source": [
    "P['ME10']"
   ]
  },
  {
   "cell_type": "markdown",
   "id": "67e510cd",
   "metadata": {},
   "source": [
    "# CAPM model sample for ME10"
   ]
  },
  {
   "cell_type": "code",
   "execution_count": 6,
   "id": "885e5d5b",
   "metadata": {},
   "outputs": [
    {
     "name": "stdout",
     "output_type": "stream",
     "text": [
      "534 10 1\n"
     ]
    }
   ],
   "source": [
    "T = P['ME10'].shape[0]\n",
    "N = P['ME10'].shape[1]\n",
    "L = F['CAPM'].shape[1]\n",
    "print(T,N,L)"
   ]
  },
  {
   "cell_type": "code",
   "execution_count": 7,
   "id": "c3cc35c0",
   "metadata": {},
   "outputs": [],
   "source": [
    "capm_me10 = LinearRegression().fit(F['CAPM'],P['ME10'])\n",
    "res_me10 = P['ME10'] - capm_me10.predict(F['CAPM'])\n",
    "alpha_me10 = capm_me10.intercept_\n",
    "beta_me10 = capm_me10.coef_"
   ]
  },
  {
   "cell_type": "code",
   "execution_count": 9,
   "id": "b5380bae",
   "metadata": {},
   "outputs": [
    {
     "data": {
      "text/plain": [
       "(10, 10)"
      ]
     },
     "execution_count": 9,
     "metadata": {},
     "output_type": "execute_result"
    }
   ],
   "source": [
    "unbiased_rescov_me10 = res_me10.T@res_me10/(T-L-1)\n",
    "unbiased_rescov_me10.shape"
   ]
  },
  {
   "cell_type": "code",
   "execution_count": 10,
   "id": "4a69c55c",
   "metadata": {},
   "outputs": [],
   "source": [
    "mu = np.mean(F['CAPM'])\n",
    "unbiased_faccov_me10 = (F['CAPM'] - mu).T@(F['CAPM']- mu)/(T-1)"
   ]
  },
  {
   "cell_type": "code",
   "execution_count": 11,
   "id": "bf199211",
   "metadata": {},
   "outputs": [
    {
     "data": {
      "text/plain": [
       "2.0435755525760753"
      ]
     },
     "execution_count": 11,
     "metadata": {},
     "output_type": "execute_result"
    }
   ],
   "source": [
    "GRS_statis = (T/N)*(T-N-L)/(T-L-1)*(alpha_me10.reshape(N)@np.linalg.inv(unbiased_rescov_me10)@alpha_me10)/(1+mu.T@unbiased_faccov_me10@mu)\n",
    "GRS_statis"
   ]
  },
  {
   "cell_type": "markdown",
   "id": "acc09023",
   "metadata": {},
   "source": [
    "# function below"
   ]
  },
  {
   "cell_type": "code",
   "execution_count": 12,
   "id": "dd1b9bfd",
   "metadata": {},
   "outputs": [],
   "source": [
    "def CAPM_GRS(CAPM,ret):\n",
    "    T = ret.shape[0]\n",
    "    N = ret.shape[1]\n",
    "    L = CAPM.shape[1]\n",
    "    \n",
    "#     capm_ = linear_model\n",
    "    capm_ = LinearRegression().fit(CAPM,ret)\n",
    "    res_ = ret - capm_.predict(CAPM)\n",
    "    alpha_ = capm_.intercept_\n",
    "    beta_ = capm_.coef_\n",
    "    \n",
    "    unbiased_rescov_ = res_.T@res_/(T-L-1)\n",
    "    \n",
    "    mu = np.mean(CAPM)\n",
    "    unbiased_faccov_ = (CAPM - mu).T@(CAPM- mu)/(T-1)\n",
    "    \n",
    "    GRS_statis = (T/N)*(T-N-L)/(T-L-1)*(alpha_.reshape(N)@scipy.linalg.inv(unbiased_rescov_)@alpha_)/(1+mu.T@np.linalg.inv(unbiased_faccov_)@mu)\n",
    "    \n",
    "    \n",
    "    return(GRS_statis)\n",
    "\n"
   ]
  },
  {
   "cell_type": "code",
   "execution_count": 13,
   "id": "3e7c8dfe",
   "metadata": {},
   "outputs": [
    {
     "data": {
      "text/plain": [
       "3.545059614507397"
      ]
     },
     "execution_count": 13,
     "metadata": {},
     "output_type": "execute_result"
    }
   ],
   "source": [
    "CAPM_GRS(F['CAPM'],P['FF25'])"
   ]
  },
  {
   "cell_type": "code",
   "execution_count": 14,
   "id": "221d7d74",
   "metadata": {},
   "outputs": [],
   "source": [
    "def Multivariate_GRS(FAC,ret):\n",
    "    T = ret.shape[0]\n",
    "    N = ret.shape[1]\n",
    "    L = FAC.shape[1]\n",
    "    \n",
    "#     capm_ = linear_model\n",
    "    fac_ = LinearRegression().fit(FAC,ret)\n",
    "    res_ = ret - fac_.predict(FAC)\n",
    "    alpha_ = fac_.intercept_\n",
    "    beta_ = fac_.coef_\n",
    "    \n",
    "    unbiased_rescov_ = res_.T@res_/(T-L-1)\n",
    "    \n",
    "    mu = np.mean(FAC)\n",
    "    unbiased_faccov_ = (FAC - mu).T@(FAC- mu)/(T-1)\n",
    "    \n",
    "    GRS_statis = (T/N)*(T-N-L)/(T-L-1)*(alpha_.T@scipy.linalg.inv(unbiased_rescov_)@alpha_)/(1+mu.T@np.linalg.inv(unbiased_faccov_)@mu)\n",
    "    \n",
    "    \n",
    "    return(GRS_statis)\n",
    "\n"
   ]
  },
  {
   "cell_type": "code",
   "execution_count": 15,
   "id": "c9b38a1e",
   "metadata": {},
   "outputs": [
    {
     "data": {
      "text/plain": [
       "3.5794017491224146"
      ]
     },
     "execution_count": 15,
     "metadata": {},
     "output_type": "execute_result"
    }
   ],
   "source": [
    "Multivariate_GRS(F['FF3'],P['IND10'])"
   ]
  },
  {
   "cell_type": "code",
   "execution_count": 16,
   "id": "257920b9",
   "metadata": {},
   "outputs": [
    {
     "data": {
      "text/html": [
       "<div>\n",
       "<style scoped>\n",
       "    .dataframe tbody tr th:only-of-type {\n",
       "        vertical-align: middle;\n",
       "    }\n",
       "\n",
       "    .dataframe tbody tr th {\n",
       "        vertical-align: top;\n",
       "    }\n",
       "\n",
       "    .dataframe thead th {\n",
       "        text-align: right;\n",
       "    }\n",
       "</style>\n",
       "<table border=\"1\" class=\"dataframe\">\n",
       "  <thead>\n",
       "    <tr style=\"text-align: right;\">\n",
       "      <th></th>\n",
       "      <th>ME10</th>\n",
       "      <th>FF25</th>\n",
       "      <th>IND10</th>\n",
       "      <th>IND30</th>\n",
       "      <th>IND49</th>\n",
       "    </tr>\n",
       "  </thead>\n",
       "  <tbody>\n",
       "    <tr>\n",
       "      <th>CAPM</th>\n",
       "      <td>2.021477</td>\n",
       "      <td>3.54506</td>\n",
       "      <td>1.843207</td>\n",
       "      <td>1.243852</td>\n",
       "      <td>4.492476</td>\n",
       "    </tr>\n",
       "    <tr>\n",
       "      <th>FF3</th>\n",
       "      <td>1.475354</td>\n",
       "      <td>2.381649</td>\n",
       "      <td>3.579402</td>\n",
       "      <td>2.259423</td>\n",
       "      <td>5.220047</td>\n",
       "    </tr>\n",
       "  </tbody>\n",
       "</table>\n",
       "</div>"
      ],
      "text/plain": [
       "          ME10      FF25     IND10     IND30     IND49\n",
       "CAPM  2.021477   3.54506  1.843207  1.243852  4.492476\n",
       "FF3   1.475354  2.381649  3.579402  2.259423  5.220047"
      ]
     },
     "execution_count": 16,
     "metadata": {},
     "output_type": "execute_result"
    }
   ],
   "source": [
    "GRS_statistics = pd.DataFrame(columns = P.keys(), index = F.keys())\n",
    "for i in F.keys():\n",
    "    for j in P.keys():\n",
    "        if i == 'CAPM':\n",
    "            GRS_statistics.loc[i,j] = CAPM_GRS(F[i],P[j])\n",
    "        else:\n",
    "            GRS_statistics.loc[i,j] = Multivariate_GRS(F[i],P[j])\n"
   ]
  },
  {
   "cell_type": "code",
   "execution_count": null,
   "id": "a8b56bfb",
   "metadata": {},
   "outputs": [],
   "source": []
  }
 ],
 "metadata": {
  "kernelspec": {
   "display_name": "Python 3",
   "language": "python",
   "name": "python3"
  },
  "language_info": {
   "codemirror_mode": {
    "name": "ipython",
    "version": 3
   },
   "file_extension": ".py",
   "mimetype": "text/x-python",
   "name": "python",
   "nbconvert_exporter": "python",
   "pygments_lexer": "ipython3",
   "version": "3.7.10"
  }
 },
 "nbformat": 4,
 "nbformat_minor": 5
}

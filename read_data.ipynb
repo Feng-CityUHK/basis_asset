{
 "cells": [
  {
   "cell_type": "code",
   "execution_count": 13,
   "metadata": {},
   "outputs": [],
   "source": [
    "import numpy as np\n",
    "import pandas as pd\n",
    "import os\n",
    "import matplotlib.pyplot as plt\n",
    "import pickle"
   ]
  },
  {
   "cell_type": "code",
   "execution_count": 14,
   "metadata": {},
   "outputs": [],
   "source": [
    "d1 = \"1981-01-01\"\n",
    "d2 = \"2020-12-31\""
   ]
  },
  {
   "cell_type": "markdown",
   "metadata": {},
   "source": [
    "# Read Factors\n",
    "\n",
    "- make ``F`` as a dictionary"
   ]
  },
  {
   "cell_type": "code",
   "execution_count": 15,
   "metadata": {},
   "outputs": [
    {
     "data": {
      "text/html": [
       "<div>\n",
       "<style scoped>\n",
       "    .dataframe tbody tr th:only-of-type {\n",
       "        vertical-align: middle;\n",
       "    }\n",
       "\n",
       "    .dataframe tbody tr th {\n",
       "        vertical-align: top;\n",
       "    }\n",
       "\n",
       "    .dataframe thead th {\n",
       "        text-align: right;\n",
       "    }\n",
       "</style>\n",
       "<table border=\"1\" class=\"dataframe\">\n",
       "  <thead>\n",
       "    <tr style=\"text-align: right;\">\n",
       "      <th></th>\n",
       "      <th>Mkt-RF</th>\n",
       "      <th>SMB</th>\n",
       "      <th>HML</th>\n",
       "      <th>RMW</th>\n",
       "      <th>CMA</th>\n",
       "      <th>RF</th>\n",
       "      <th>MOM</th>\n",
       "    </tr>\n",
       "  </thead>\n",
       "  <tbody>\n",
       "    <tr>\n",
       "      <th>1981-01-31</th>\n",
       "      <td>-0.0504</td>\n",
       "      <td>0.0338</td>\n",
       "      <td>0.0683</td>\n",
       "      <td>-0.0354</td>\n",
       "      <td>0.0435</td>\n",
       "      <td>0.0104</td>\n",
       "      <td>-0.0794</td>\n",
       "    </tr>\n",
       "    <tr>\n",
       "      <th>1981-02-28</th>\n",
       "      <td>0.0057</td>\n",
       "      <td>-0.0049</td>\n",
       "      <td>0.0100</td>\n",
       "      <td>0.0019</td>\n",
       "      <td>0.0225</td>\n",
       "      <td>0.0107</td>\n",
       "      <td>-0.0139</td>\n",
       "    </tr>\n",
       "    <tr>\n",
       "      <th>1981-03-31</th>\n",
       "      <td>0.0356</td>\n",
       "      <td>0.0307</td>\n",
       "      <td>0.0069</td>\n",
       "      <td>-0.0234</td>\n",
       "      <td>-0.0053</td>\n",
       "      <td>0.0121</td>\n",
       "      <td>0.0073</td>\n",
       "    </tr>\n",
       "    <tr>\n",
       "      <th>1981-04-30</th>\n",
       "      <td>-0.0211</td>\n",
       "      <td>0.0460</td>\n",
       "      <td>0.0229</td>\n",
       "      <td>0.0082</td>\n",
       "      <td>0.0120</td>\n",
       "      <td>0.0108</td>\n",
       "      <td>-0.0095</td>\n",
       "    </tr>\n",
       "    <tr>\n",
       "      <th>1981-05-31</th>\n",
       "      <td>0.0011</td>\n",
       "      <td>0.0245</td>\n",
       "      <td>-0.0047</td>\n",
       "      <td>0.0033</td>\n",
       "      <td>-0.0160</td>\n",
       "      <td>0.0115</td>\n",
       "      <td>0.0375</td>\n",
       "    </tr>\n",
       "    <tr>\n",
       "      <th>...</th>\n",
       "      <td>...</td>\n",
       "      <td>...</td>\n",
       "      <td>...</td>\n",
       "      <td>...</td>\n",
       "      <td>...</td>\n",
       "      <td>...</td>\n",
       "      <td>...</td>\n",
       "    </tr>\n",
       "    <tr>\n",
       "      <th>2020-08-31</th>\n",
       "      <td>0.0763</td>\n",
       "      <td>-0.0094</td>\n",
       "      <td>-0.0294</td>\n",
       "      <td>0.0427</td>\n",
       "      <td>-0.0144</td>\n",
       "      <td>0.0001</td>\n",
       "      <td>0.0051</td>\n",
       "    </tr>\n",
       "    <tr>\n",
       "      <th>2020-09-30</th>\n",
       "      <td>-0.0363</td>\n",
       "      <td>0.0007</td>\n",
       "      <td>-0.0251</td>\n",
       "      <td>-0.0115</td>\n",
       "      <td>-0.0177</td>\n",
       "      <td>0.0001</td>\n",
       "      <td>0.0305</td>\n",
       "    </tr>\n",
       "    <tr>\n",
       "      <th>2020-10-31</th>\n",
       "      <td>-0.0210</td>\n",
       "      <td>0.0476</td>\n",
       "      <td>0.0403</td>\n",
       "      <td>-0.0060</td>\n",
       "      <td>-0.0053</td>\n",
       "      <td>0.0001</td>\n",
       "      <td>-0.0303</td>\n",
       "    </tr>\n",
       "    <tr>\n",
       "      <th>2020-11-30</th>\n",
       "      <td>0.1247</td>\n",
       "      <td>0.0675</td>\n",
       "      <td>0.0211</td>\n",
       "      <td>-0.0278</td>\n",
       "      <td>0.0105</td>\n",
       "      <td>0.0001</td>\n",
       "      <td>-0.1225</td>\n",
       "    </tr>\n",
       "    <tr>\n",
       "      <th>2020-12-31</th>\n",
       "      <td>0.0463</td>\n",
       "      <td>0.0467</td>\n",
       "      <td>-0.0136</td>\n",
       "      <td>-0.0215</td>\n",
       "      <td>0.0000</td>\n",
       "      <td>0.0001</td>\n",
       "      <td>-0.0242</td>\n",
       "    </tr>\n",
       "  </tbody>\n",
       "</table>\n",
       "<p>480 rows × 7 columns</p>\n",
       "</div>"
      ],
      "text/plain": [
       "            Mkt-RF     SMB     HML     RMW     CMA      RF     MOM\n",
       "1981-01-31 -0.0504  0.0338  0.0683 -0.0354  0.0435  0.0104 -0.0794\n",
       "1981-02-28  0.0057 -0.0049  0.0100  0.0019  0.0225  0.0107 -0.0139\n",
       "1981-03-31  0.0356  0.0307  0.0069 -0.0234 -0.0053  0.0121  0.0073\n",
       "1981-04-30 -0.0211  0.0460  0.0229  0.0082  0.0120  0.0108 -0.0095\n",
       "1981-05-31  0.0011  0.0245 -0.0047  0.0033 -0.0160  0.0115  0.0375\n",
       "...            ...     ...     ...     ...     ...     ...     ...\n",
       "2020-08-31  0.0763 -0.0094 -0.0294  0.0427 -0.0144  0.0001  0.0051\n",
       "2020-09-30 -0.0363  0.0007 -0.0251 -0.0115 -0.0177  0.0001  0.0305\n",
       "2020-10-31 -0.0210  0.0476  0.0403 -0.0060 -0.0053  0.0001 -0.0303\n",
       "2020-11-30  0.1247  0.0675  0.0211 -0.0278  0.0105  0.0001 -0.1225\n",
       "2020-12-31  0.0463  0.0467 -0.0136 -0.0215  0.0000  0.0001 -0.0242\n",
       "\n",
       "[480 rows x 7 columns]"
      ]
     },
     "execution_count": 15,
     "metadata": {},
     "output_type": "execute_result"
    }
   ],
   "source": [
    "f = pd.read_csv(\"./data/factor/ff_factors.csv\", index_col=0)\n",
    "f.index = pd.date_range(start=\"1963-07-31\",end=\"2021-02-28\",freq='M')\n",
    "f = f.loc[d1:d2]\n",
    "f = f/100\n",
    "f"
   ]
  },
  {
   "cell_type": "code",
   "execution_count": 4,
   "metadata": {},
   "outputs": [],
   "source": [
    "F = {\n",
    "    \"CAPM\": f[[\"Mkt-RF\"]],\n",
    "    \"FF3\":  f[[\"Mkt-RF\",\"SMB\",\"HML\"]],\n",
    "    \"FF5\":  f[[\"Mkt-RF\",\"SMB\",\"HML\",\"RMW\",\"CMA\"]],\n",
    "    \"FF6\":  f[[\"Mkt-RF\",\"SMB\",\"HML\",\"RMW\",\"CMA\",\"MOM\"]]\n",
    "}\n",
    "RF = f[[\"RF\"]]"
   ]
  },
  {
   "cell_type": "markdown",
   "metadata": {},
   "source": [
    "# Read Portfolio Returns\n",
    "\n",
    "- minus risk free rate"
   ]
  },
  {
   "cell_type": "code",
   "execution_count": 5,
   "metadata": {},
   "outputs": [],
   "source": [
    "ff25 = pd.read_csv(\"./data/portfolio/FF25.csv\", index_col=0)\n",
    "ff25.index = pd.date_range(start=\"1926-07-31\",end=\"2021-03-31\",freq='M')\n",
    "ff25 = ff25.loc[d1:d2]\n",
    "ff25 = ff25/100\n",
    "ff25['RF'] = RF[\"RF\"]\n",
    "for i in ff25.columns[:-1]:\n",
    "    ff25[i] = ff25[i] - ff25[\"RF\"]\n",
    "del ff25[\"RF\"]\n"
   ]
  },
  {
   "cell_type": "code",
   "execution_count": 6,
   "metadata": {},
   "outputs": [],
   "source": [
    "me10 = pd.read_csv(\"./data/portfolio/size_sort_port.csv\", index_col=0)\n",
    "me10 = me10[['Lo 10', 'Dec-02', 'Dec-03', 'Dec-04', 'Dec-05', \n",
    "                'Dec-06','Dec-07', 'Dec-08', 'Dec-09', 'Hi 10']]\n",
    "me10.index = pd.date_range(start=\"1926-07-31\",end=\"2021-04-30\",freq='M')\n",
    "me10 = me10.loc[d1:d2]\n",
    "me10 = me10/100\n",
    "me10['RF'] = RF[\"RF\"]\n",
    "for i in me10.columns[:-1]:\n",
    "    me10[i] = me10[i] - me10[\"RF\"]\n",
    "del me10[\"RF\"]"
   ]
  },
  {
   "cell_type": "code",
   "execution_count": 7,
   "metadata": {},
   "outputs": [],
   "source": [
    "ind10 = pd.read_csv(\"./data/portfolio/ind10vw.csv\", index_col=0)\n",
    "ind10.index = pd.date_range(start=\"1926-07-31\",end=\"2021-03-31\",freq='M')\n",
    "ind10 = ind10.loc[d1:d2]\n",
    "ind10 = ind10/100\n",
    "ind10['RF'] = RF[\"RF\"]\n",
    "for i in ind10.columns[:-1]:\n",
    "    ind10[i] = ind10[i] - ind10[\"RF\"]\n",
    "del ind10[\"RF\"]"
   ]
  },
  {
   "cell_type": "code",
   "execution_count": 8,
   "metadata": {},
   "outputs": [],
   "source": [
    "ind30 = pd.read_csv(\"./data/portfolio/Ind30vw.csv\", index_col=0)\n",
    "ind30.index = pd.date_range(start=\"1926-07-31\",end=\"2021-03-31\",freq='M')\n",
    "ind30 = ind30.loc[d1:d2]\n",
    "ind30 = ind30/100\n",
    "ind30['RF'] = RF[\"RF\"]\n",
    "for i in ind30.columns[:-1]:\n",
    "    ind30[i] = ind30[i] - ind30[\"RF\"]\n",
    "del ind30[\"RF\"]"
   ]
  },
  {
   "cell_type": "code",
   "execution_count": 9,
   "metadata": {},
   "outputs": [],
   "source": [
    "ind49 = pd.read_csv(\"./data/portfolio/ind49vw.csv\", index_col=0)\n",
    "ind49.index = pd.date_range(start=\"1926-07-31\",end=\"2021-03-31\",freq='M')\n",
    "ind49 = ind49.loc[d1:d2]\n",
    "ind49 = ind49/100\n",
    "ind49['RF'] = RF[\"RF\"]\n",
    "for i in ind49.columns[:-1]:\n",
    "    ind49[i] = ind49[i] - ind49[\"RF\"]\n",
    "del ind49[\"RF\"]"
   ]
  },
  {
   "cell_type": "code",
   "execution_count": 10,
   "metadata": {},
   "outputs": [],
   "source": [
    "pt23 = pd.read_csv(\"./data/portfolio/PT23.csv\", index_col=0)\n",
    "pt23.index = pd.date_range(start=d1,end=d2,freq='M')\n",
    "\n",
    "mapt18 = pd.read_csv(\"./data/portfolio/MAPT18.csv\", index_col=0)\n",
    "mapt18.index = pd.date_range(start=d1,end=d2,freq='M')"
   ]
  },
  {
   "cell_type": "code",
   "execution_count": 11,
   "metadata": {},
   "outputs": [],
   "source": [
    "P = {\n",
    "    \"ME10\": me10,\n",
    "    \"FF25\": ff25,\n",
    "    \"IND10\": ind10,\n",
    "    \"IND30\": ind30,\n",
    "    \"IND49\": ind49,\n",
    "    \"PT23\": pt23,\n",
    "    \"MAPT18\": mapt18\n",
    "}"
   ]
  },
  {
   "cell_type": "markdown",
   "metadata": {},
   "source": [
    "# Save Data as ``.pickle``"
   ]
  },
  {
   "cell_type": "code",
   "execution_count": 12,
   "metadata": {},
   "outputs": [],
   "source": [
    "pickle.dump( [P,F], open( \"./data/save.p\", \"wb\" ) )"
   ]
  }
 ],
 "metadata": {
  "interpreter": {
   "hash": "9387e9e37a0af8fff0fcbade4737076ebc87d0c8fec44545ee3d2fd05cdc73df"
  },
  "kernelspec": {
   "display_name": "Python 3.6.5 64-bit ('base': conda)",
   "name": "python3"
  },
  "language_info": {
   "codemirror_mode": {
    "name": "ipython",
    "version": 3
   },
   "file_extension": ".py",
   "mimetype": "text/x-python",
   "name": "python",
   "nbconvert_exporter": "python",
   "pygments_lexer": "ipython3",
   "version": "3.6.5"
  },
  "orig_nbformat": 2
 },
 "nbformat": 4,
 "nbformat_minor": 2
}
